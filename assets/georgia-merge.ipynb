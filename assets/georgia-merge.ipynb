{
 "cells": [
  {
   "cell_type": "markdown",
   "metadata": {},
   "source": [
    "A brief explainer of what we're doing here:\n",
    "\n",
    "We have data on ~400k bids for gov't auctions in Georgia, and (in a separate dataset) information about the firms represented in that dataset. In particular, we have information about the shareholders of those firms at a variety of dates, and we are interested in seeing whether common ownership leads to cartel-like behavior. This code merges the two datasets and, for each bid, adds information about the firm's executive and major shareholders.\n",
    "\n",
    "This would've been done in Stata but there's a lot of messing around with strings (which is NOT FUN in Stata) and being able to hold two datasets in memory simultaneously is _very_ convenient for the final step."
   ]
  },
  {
   "cell_type": "code",
   "execution_count": 93,
   "metadata": {},
   "outputs": [],
   "source": [
    "import pandas as pd\n",
    "import numpy as np\n",
    "from tqdm.notebook import tqdm\n",
    "import subprocess"
   ]
  },
  {
   "cell_type": "code",
   "execution_count": 2,
   "metadata": {},
   "outputs": [],
   "source": [
    "dat = pd.read_stata(\"../01_data/GeorgianFirmsMerged.dta\")"
   ]
  },
  {
   "cell_type": "markdown",
   "metadata": {},
   "source": [
    "Preliminary transformations---if an observation does not have a time associated with it, we assume the observation is as of the firm's registration date\n",
    "\n",
    "If we don't have an observation or registration date, set it to dummy value 1/1/1970. We can't groupby over NaN values, and this doesn't affect results in any way."
   ]
  },
  {
   "cell_type": "code",
   "execution_count": 3,
   "metadata": {},
   "outputs": [],
   "source": [
    "dat.loc[dat.date.isnull(), 'date'] = dat.loc[dat.date.isnull(), 'registration_date']\n",
    "dat.loc[dat.date.isnull(), ['date', 'registration_date']] = pd.to_datetime(\"1/1/1970\")\n",
    "dat['former'] = dat.role.str.contains('(Former)', regex=False)\n",
    "dat = dat.drop_duplicates()"
   ]
  },
  {
   "cell_type": "markdown",
   "metadata": {},
   "source": [
    "We then best-guess who is the chief executive of a firm at a given time."
   ]
  },
  {
   "cell_type": "code",
   "execution_count": 35,
   "metadata": {
    "scrolled": true
   },
   "outputs": [
    {
     "name": "stdout",
     "output_type": "stream",
     "text": [
      "117594\n"
     ]
    },
    {
     "data": {
      "application/vnd.jupyter.widget-view+json": {
       "model_id": "7dc36f20101748e082840d4557795f87",
       "version_major": 2,
       "version_minor": 0
      },
      "text/plain": [
       "HBox(children=(FloatProgress(value=0.0, max=117594.0), HTML(value='')))"
      ]
     },
     "metadata": {},
     "output_type": "display_data"
    },
    {
     "name": "stdout",
     "output_type": "stream",
     "text": [
      "\n"
     ]
    }
   ],
   "source": [
    "def identify_director(dat):\n",
    "    # These are the (most common) titles for executives\n",
    "    director_roles = [\n",
    "        'Direktori',\n",
    "        'Direktori, Partniori',\n",
    "        'Partniori, Direktori',\n",
    "        'Generaluri Direktori',\n",
    "        'Partniori, Generaluri Direktori',\n",
    "        'Generaluri Direktori, Partniori',\n",
    "        'Khelmdzghvaneli',\n",
    "        'Partniori, Khelmdzghvaneli',\n",
    "        'Khelmdzghvaneli, Partniori',\n",
    "        'Aghmasrulebeli Direktori'\n",
    "    ]\n",
    "    \n",
    "    # If a firm has one person and is marked as 'Individual Entrepeneur', the director name is the same as the \n",
    "    # firm's name\n",
    "    # Ind'l entrepeneur\n",
    "    if (dat.iloc[0]['legal_form'] == \"Individual Entrepreneur\") or (len(dat) == 1 and not dat.iloc[0]['legal_form']):\n",
    "        return np.array([dat.iloc[0]['firm_name'], '---'])\n",
    "    \n",
    "    \n",
    "    # If all personnel are marked as 'former', we assume the firm is no longer in operation\n",
    "    if dat.former.to_numpy().all(): #defunct\n",
    "        return np.array(['DEFUNCT', '---'])\n",
    "    \n",
    "    \n",
    "    # Find all rows where the job title is in the list above\n",
    "    director = dat[dat.role.isin(director_roles)]\n",
    "    \n",
    "    # If there's exactly one, we're in luck\n",
    "    if len(director) == 1: # identified\n",
    "        return director[['person', 'personal_num']].to_numpy().flatten()\n",
    "    \n",
    "    # Otherwise, we assume the person with the highest share who is not marked 'former' is the executive\n",
    "    elif len(director) == 0: # underitentified\n",
    "#         print(data)\n",
    "        dir_guess = dat[dat.former == False]\\\n",
    "                    .sort_values('share', ascending = False)\\\n",
    "                    .head(1)[['person', 'personal_num']]\\\n",
    "                    .to_numpy()\\\n",
    "                    .flatten()\n",
    "        return dir_guess\n",
    "    \n",
    "    elif len(director) > 1: # overidentified\n",
    "        dir_guess = dat[dat.former == False]\\\n",
    "                    .sort_values('share', ascending = False)\\\n",
    "                    .head(1)[['person', 'personal_num']]\\\n",
    "                    .to_numpy()\\\n",
    "                    .flatten()\n",
    "        return dir_guess\n",
    "    \n",
    "    return None\n",
    "\n",
    "# For each firm/date pair, find the controlling interest\n",
    "grped = dat.groupby(['firmid', 'date'])\n",
    "print(len(grped))\n",
    "\n",
    "for name, data in tqdm(grped):\n",
    "    result = identify_director(data)\n",
    "    \n",
    "    dat.loc[data.index , 'director_name'] = result[0]\n",
    "    dat.loc[data.index , 'director_num'] = result[1]"
   ]
  },
  {
   "cell_type": "markdown",
   "metadata": {},
   "source": [
    "We also want to include the five largest shareholders for each firm/date combination. This adds a shareholder rank for each firm/date combo and drops all but the largest 5."
   ]
  },
  {
   "cell_type": "code",
   "execution_count": 38,
   "metadata": {},
   "outputs": [],
   "source": [
    "grouped = dat.sort_values('share', ascending = False)\\\n",
    "             .groupby(['firmid', 'date'])\\\n",
    "             .head(5)\n",
    "\n",
    "grouped['grp_id'] = grouped.groupby(['firmid', 'date']).cumcount()"
   ]
  },
  {
   "cell_type": "markdown",
   "metadata": {},
   "source": [
    "Then pivot from long to wide format (we'll clean up the MultiIndex in the next step"
   ]
  },
  {
   "cell_type": "code",
   "execution_count": 39,
   "metadata": {},
   "outputs": [
    {
     "data": {
      "text/html": [
       "<div>\n",
       "<style scoped>\n",
       "    .dataframe tbody tr th:only-of-type {\n",
       "        vertical-align: middle;\n",
       "    }\n",
       "\n",
       "    .dataframe tbody tr th {\n",
       "        vertical-align: top;\n",
       "    }\n",
       "\n",
       "    .dataframe thead tr th {\n",
       "        text-align: left;\n",
       "    }\n",
       "\n",
       "    .dataframe thead tr:last-of-type th {\n",
       "        text-align: right;\n",
       "    }\n",
       "</style>\n",
       "<table border=\"1\" class=\"dataframe\">\n",
       "  <thead>\n",
       "    <tr>\n",
       "      <th></th>\n",
       "      <th></th>\n",
       "      <th colspan=\"5\" halign=\"left\">personal_num</th>\n",
       "      <th colspan=\"5\" halign=\"left\">person</th>\n",
       "      <th>...</th>\n",
       "      <th colspan=\"5\" halign=\"left\">share</th>\n",
       "      <th colspan=\"5\" halign=\"left\">num_role</th>\n",
       "    </tr>\n",
       "    <tr>\n",
       "      <th></th>\n",
       "      <th>grp_id</th>\n",
       "      <th>0</th>\n",
       "      <th>1</th>\n",
       "      <th>2</th>\n",
       "      <th>3</th>\n",
       "      <th>4</th>\n",
       "      <th>0</th>\n",
       "      <th>1</th>\n",
       "      <th>2</th>\n",
       "      <th>3</th>\n",
       "      <th>4</th>\n",
       "      <th>...</th>\n",
       "      <th>0</th>\n",
       "      <th>1</th>\n",
       "      <th>2</th>\n",
       "      <th>3</th>\n",
       "      <th>4</th>\n",
       "      <th>0</th>\n",
       "      <th>1</th>\n",
       "      <th>2</th>\n",
       "      <th>3</th>\n",
       "      <th>4</th>\n",
       "    </tr>\n",
       "    <tr>\n",
       "      <th>firmid</th>\n",
       "      <th>date</th>\n",
       "      <th></th>\n",
       "      <th></th>\n",
       "      <th></th>\n",
       "      <th></th>\n",
       "      <th></th>\n",
       "      <th></th>\n",
       "      <th></th>\n",
       "      <th></th>\n",
       "      <th></th>\n",
       "      <th></th>\n",
       "      <th></th>\n",
       "      <th></th>\n",
       "      <th></th>\n",
       "      <th></th>\n",
       "      <th></th>\n",
       "      <th></th>\n",
       "      <th></th>\n",
       "      <th></th>\n",
       "      <th></th>\n",
       "      <th></th>\n",
       "      <th></th>\n",
       "    </tr>\n",
       "  </thead>\n",
       "  <tbody>\n",
       "    <tr>\n",
       "      <th>01-10-043308</th>\n",
       "      <th>1970-01-01</th>\n",
       "      <td></td>\n",
       "      <td>NaN</td>\n",
       "      <td>NaN</td>\n",
       "      <td>NaN</td>\n",
       "      <td>NaN</td>\n",
       "      <td></td>\n",
       "      <td>NaN</td>\n",
       "      <td>NaN</td>\n",
       "      <td>NaN</td>\n",
       "      <td>NaN</td>\n",
       "      <td>...</td>\n",
       "      <td>NaN</td>\n",
       "      <td>NaN</td>\n",
       "      <td>NaN</td>\n",
       "      <td>NaN</td>\n",
       "      <td>NaN</td>\n",
       "      <td>NaN</td>\n",
       "      <td>NaN</td>\n",
       "      <td>NaN</td>\n",
       "      <td>NaN</td>\n",
       "      <td>NaN</td>\n",
       "    </tr>\n",
       "    <tr>\n",
       "      <th>086 001 3021</th>\n",
       "      <th>1970-01-01</th>\n",
       "      <td></td>\n",
       "      <td>NaN</td>\n",
       "      <td>NaN</td>\n",
       "      <td>NaN</td>\n",
       "      <td>NaN</td>\n",
       "      <td></td>\n",
       "      <td>NaN</td>\n",
       "      <td>NaN</td>\n",
       "      <td>NaN</td>\n",
       "      <td>NaN</td>\n",
       "      <td>...</td>\n",
       "      <td>NaN</td>\n",
       "      <td>NaN</td>\n",
       "      <td>NaN</td>\n",
       "      <td>NaN</td>\n",
       "      <td>NaN</td>\n",
       "      <td>NaN</td>\n",
       "      <td>NaN</td>\n",
       "      <td>NaN</td>\n",
       "      <td>NaN</td>\n",
       "      <td>NaN</td>\n",
       "    </tr>\n",
       "    <tr>\n",
       "      <th>10001000480</th>\n",
       "      <th>2008-06-23</th>\n",
       "      <td></td>\n",
       "      <td>NaN</td>\n",
       "      <td>NaN</td>\n",
       "      <td>NaN</td>\n",
       "      <td>NaN</td>\n",
       "      <td></td>\n",
       "      <td>NaN</td>\n",
       "      <td>NaN</td>\n",
       "      <td>NaN</td>\n",
       "      <td>NaN</td>\n",
       "      <td>...</td>\n",
       "      <td>NaN</td>\n",
       "      <td>NaN</td>\n",
       "      <td>NaN</td>\n",
       "      <td>NaN</td>\n",
       "      <td>NaN</td>\n",
       "      <td>0.0</td>\n",
       "      <td>NaN</td>\n",
       "      <td>NaN</td>\n",
       "      <td>NaN</td>\n",
       "      <td>NaN</td>\n",
       "    </tr>\n",
       "    <tr>\n",
       "      <th>10001000667</th>\n",
       "      <th>1970-01-01</th>\n",
       "      <td></td>\n",
       "      <td>NaN</td>\n",
       "      <td>NaN</td>\n",
       "      <td>NaN</td>\n",
       "      <td>NaN</td>\n",
       "      <td></td>\n",
       "      <td>NaN</td>\n",
       "      <td>NaN</td>\n",
       "      <td>NaN</td>\n",
       "      <td>NaN</td>\n",
       "      <td>...</td>\n",
       "      <td>NaN</td>\n",
       "      <td>NaN</td>\n",
       "      <td>NaN</td>\n",
       "      <td>NaN</td>\n",
       "      <td>NaN</td>\n",
       "      <td>NaN</td>\n",
       "      <td>NaN</td>\n",
       "      <td>NaN</td>\n",
       "      <td>NaN</td>\n",
       "      <td>NaN</td>\n",
       "    </tr>\n",
       "    <tr>\n",
       "      <th>10001000742</th>\n",
       "      <th>2011-01-03</th>\n",
       "      <td></td>\n",
       "      <td>NaN</td>\n",
       "      <td>NaN</td>\n",
       "      <td>NaN</td>\n",
       "      <td>NaN</td>\n",
       "      <td></td>\n",
       "      <td>NaN</td>\n",
       "      <td>NaN</td>\n",
       "      <td>NaN</td>\n",
       "      <td>NaN</td>\n",
       "      <td>...</td>\n",
       "      <td>NaN</td>\n",
       "      <td>NaN</td>\n",
       "      <td>NaN</td>\n",
       "      <td>NaN</td>\n",
       "      <td>NaN</td>\n",
       "      <td>0.0</td>\n",
       "      <td>NaN</td>\n",
       "      <td>NaN</td>\n",
       "      <td>NaN</td>\n",
       "      <td>NaN</td>\n",
       "    </tr>\n",
       "    <tr>\n",
       "      <th>...</th>\n",
       "      <th>...</th>\n",
       "      <td>...</td>\n",
       "      <td>...</td>\n",
       "      <td>...</td>\n",
       "      <td>...</td>\n",
       "      <td>...</td>\n",
       "      <td>...</td>\n",
       "      <td>...</td>\n",
       "      <td>...</td>\n",
       "      <td>...</td>\n",
       "      <td>...</td>\n",
       "      <td>...</td>\n",
       "      <td>...</td>\n",
       "      <td>...</td>\n",
       "      <td>...</td>\n",
       "      <td>...</td>\n",
       "      <td>...</td>\n",
       "      <td>...</td>\n",
       "      <td>...</td>\n",
       "      <td>...</td>\n",
       "      <td>...</td>\n",
       "      <td>...</td>\n",
       "    </tr>\n",
       "    <tr>\n",
       "      <th>SI 40312623</th>\n",
       "      <th>1970-01-01</th>\n",
       "      <td></td>\n",
       "      <td>NaN</td>\n",
       "      <td>NaN</td>\n",
       "      <td>NaN</td>\n",
       "      <td>NaN</td>\n",
       "      <td></td>\n",
       "      <td>NaN</td>\n",
       "      <td>NaN</td>\n",
       "      <td>NaN</td>\n",
       "      <td>NaN</td>\n",
       "      <td>...</td>\n",
       "      <td>NaN</td>\n",
       "      <td>NaN</td>\n",
       "      <td>NaN</td>\n",
       "      <td>NaN</td>\n",
       "      <td>NaN</td>\n",
       "      <td>NaN</td>\n",
       "      <td>NaN</td>\n",
       "      <td>NaN</td>\n",
       "      <td>NaN</td>\n",
       "      <td>NaN</td>\n",
       "    </tr>\n",
       "    <tr>\n",
       "      <th>TVA FR 54 349 505 370</th>\n",
       "      <th>1970-01-01</th>\n",
       "      <td></td>\n",
       "      <td>NaN</td>\n",
       "      <td>NaN</td>\n",
       "      <td>NaN</td>\n",
       "      <td>NaN</td>\n",
       "      <td></td>\n",
       "      <td>NaN</td>\n",
       "      <td>NaN</td>\n",
       "      <td>NaN</td>\n",
       "      <td>NaN</td>\n",
       "      <td>...</td>\n",
       "      <td>NaN</td>\n",
       "      <td>NaN</td>\n",
       "      <td>NaN</td>\n",
       "      <td>NaN</td>\n",
       "      <td>NaN</td>\n",
       "      <td>NaN</td>\n",
       "      <td>NaN</td>\n",
       "      <td>NaN</td>\n",
       "      <td>NaN</td>\n",
       "      <td>NaN</td>\n",
       "    </tr>\n",
       "    <tr>\n",
       "      <th>U24230MH1971PLC015134</th>\n",
       "      <th>1970-01-01</th>\n",
       "      <td></td>\n",
       "      <td>NaN</td>\n",
       "      <td>NaN</td>\n",
       "      <td>NaN</td>\n",
       "      <td>NaN</td>\n",
       "      <td></td>\n",
       "      <td>NaN</td>\n",
       "      <td>NaN</td>\n",
       "      <td>NaN</td>\n",
       "      <td>NaN</td>\n",
       "      <td>...</td>\n",
       "      <td>NaN</td>\n",
       "      <td>NaN</td>\n",
       "      <td>NaN</td>\n",
       "      <td>NaN</td>\n",
       "      <td>NaN</td>\n",
       "      <td>NaN</td>\n",
       "      <td>NaN</td>\n",
       "      <td>NaN</td>\n",
       "      <td>NaN</td>\n",
       "      <td>NaN</td>\n",
       "    </tr>\n",
       "    <tr>\n",
       "      <th>Ugoplast</th>\n",
       "      <th>1970-01-01</th>\n",
       "      <td></td>\n",
       "      <td>NaN</td>\n",
       "      <td>NaN</td>\n",
       "      <td>NaN</td>\n",
       "      <td>NaN</td>\n",
       "      <td></td>\n",
       "      <td>NaN</td>\n",
       "      <td>NaN</td>\n",
       "      <td>NaN</td>\n",
       "      <td>NaN</td>\n",
       "      <td>...</td>\n",
       "      <td>NaN</td>\n",
       "      <td>NaN</td>\n",
       "      <td>NaN</td>\n",
       "      <td>NaN</td>\n",
       "      <td>NaN</td>\n",
       "      <td>NaN</td>\n",
       "      <td>NaN</td>\n",
       "      <td>NaN</td>\n",
       "      <td>NaN</td>\n",
       "      <td>NaN</td>\n",
       "    </tr>\n",
       "    <tr>\n",
       "      <th>dotecon</th>\n",
       "      <th>1970-01-01</th>\n",
       "      <td></td>\n",
       "      <td>NaN</td>\n",
       "      <td>NaN</td>\n",
       "      <td>NaN</td>\n",
       "      <td>NaN</td>\n",
       "      <td></td>\n",
       "      <td>NaN</td>\n",
       "      <td>NaN</td>\n",
       "      <td>NaN</td>\n",
       "      <td>NaN</td>\n",
       "      <td>...</td>\n",
       "      <td>NaN</td>\n",
       "      <td>NaN</td>\n",
       "      <td>NaN</td>\n",
       "      <td>NaN</td>\n",
       "      <td>NaN</td>\n",
       "      <td>NaN</td>\n",
       "      <td>NaN</td>\n",
       "      <td>NaN</td>\n",
       "      <td>NaN</td>\n",
       "      <td>NaN</td>\n",
       "    </tr>\n",
       "  </tbody>\n",
       "</table>\n",
       "<p>117594 rows × 25 columns</p>\n",
       "</div>"
      ],
      "text/plain": [
       "                                 personal_num                     person       \\\n",
       "grp_id                                      0    1    2    3    4      0    1   \n",
       "firmid                date                                                      \n",
       "01-10-043308          1970-01-01               NaN  NaN  NaN  NaN         NaN   \n",
       "086 001 3021          1970-01-01               NaN  NaN  NaN  NaN         NaN   \n",
       "10001000480           2008-06-23               NaN  NaN  NaN  NaN         NaN   \n",
       "10001000667           1970-01-01               NaN  NaN  NaN  NaN         NaN   \n",
       "10001000742           2011-01-03               NaN  NaN  NaN  NaN         NaN   \n",
       "...                                       ...  ...  ...  ...  ...    ...  ...   \n",
       "SI 40312623           1970-01-01               NaN  NaN  NaN  NaN         NaN   \n",
       "TVA FR 54 349 505 370 1970-01-01               NaN  NaN  NaN  NaN         NaN   \n",
       "U24230MH1971PLC015134 1970-01-01               NaN  NaN  NaN  NaN         NaN   \n",
       "Ugoplast              1970-01-01               NaN  NaN  NaN  NaN         NaN   \n",
       "dotecon               1970-01-01               NaN  NaN  NaN  NaN         NaN   \n",
       "\n",
       "                                                 ... share                 \\\n",
       "grp_id                              2    3    4  ...     0    1    2    3   \n",
       "firmid                date                       ...                        \n",
       "01-10-043308          1970-01-01  NaN  NaN  NaN  ...   NaN  NaN  NaN  NaN   \n",
       "086 001 3021          1970-01-01  NaN  NaN  NaN  ...   NaN  NaN  NaN  NaN   \n",
       "10001000480           2008-06-23  NaN  NaN  NaN  ...   NaN  NaN  NaN  NaN   \n",
       "10001000667           1970-01-01  NaN  NaN  NaN  ...   NaN  NaN  NaN  NaN   \n",
       "10001000742           2011-01-03  NaN  NaN  NaN  ...   NaN  NaN  NaN  NaN   \n",
       "...                               ...  ...  ...  ...   ...  ...  ...  ...   \n",
       "SI 40312623           1970-01-01  NaN  NaN  NaN  ...   NaN  NaN  NaN  NaN   \n",
       "TVA FR 54 349 505 370 1970-01-01  NaN  NaN  NaN  ...   NaN  NaN  NaN  NaN   \n",
       "U24230MH1971PLC015134 1970-01-01  NaN  NaN  NaN  ...   NaN  NaN  NaN  NaN   \n",
       "Ugoplast              1970-01-01  NaN  NaN  NaN  ...   NaN  NaN  NaN  NaN   \n",
       "dotecon               1970-01-01  NaN  NaN  NaN  ...   NaN  NaN  NaN  NaN   \n",
       "\n",
       "                                      num_role                      \n",
       "grp_id                              4        0    1    2    3    4  \n",
       "firmid                date                                          \n",
       "01-10-043308          1970-01-01  NaN      NaN  NaN  NaN  NaN  NaN  \n",
       "086 001 3021          1970-01-01  NaN      NaN  NaN  NaN  NaN  NaN  \n",
       "10001000480           2008-06-23  NaN      0.0  NaN  NaN  NaN  NaN  \n",
       "10001000667           1970-01-01  NaN      NaN  NaN  NaN  NaN  NaN  \n",
       "10001000742           2011-01-03  NaN      0.0  NaN  NaN  NaN  NaN  \n",
       "...                               ...      ...  ...  ...  ...  ...  \n",
       "SI 40312623           1970-01-01  NaN      NaN  NaN  NaN  NaN  NaN  \n",
       "TVA FR 54 349 505 370 1970-01-01  NaN      NaN  NaN  NaN  NaN  NaN  \n",
       "U24230MH1971PLC015134 1970-01-01  NaN      NaN  NaN  NaN  NaN  NaN  \n",
       "Ugoplast              1970-01-01  NaN      NaN  NaN  NaN  NaN  NaN  \n",
       "dotecon               1970-01-01  NaN      NaN  NaN  NaN  NaN  NaN  \n",
       "\n",
       "[117594 rows x 25 columns]"
      ]
     },
     "execution_count": 39,
     "metadata": {},
     "output_type": "execute_result"
    }
   ],
   "source": [
    "widedat = pd.pivot(grouped,\n",
    "                         index = ['firmid', 'date'],\n",
    "                         columns = ['grp_id'],\n",
    "                         values = ['personal_num', 'person', 'role', 'share', 'num_role']\n",
    "                        )\n"
   ]
  },
  {
   "cell_type": "markdown",
   "metadata": {},
   "source": [
    "Flatten the column indices, relabeling them to be e.g. share_2"
   ]
  },
  {
   "cell_type": "code",
   "execution_count": 40,
   "metadata": {},
   "outputs": [],
   "source": [
    "widedat.columns = [f\"{a[0]}_{a[1]+1}\" for a in widedat.columns.to_flat_index()]"
   ]
  },
  {
   "cell_type": "markdown",
   "metadata": {},
   "source": [
    "Rearrange them so they go e.g. person_1 person_num_1 share_1 ... person_n person_num_n share_n"
   ]
  },
  {
   "cell_type": "code",
   "execution_count": 41,
   "metadata": {},
   "outputs": [],
   "source": [
    "col1 = ['person', 'personal_num', 'role', 'share', 'num_role']\n",
    "col2 = [str(a) for a in range(1,6)]\n",
    "\n",
    "colorder = ['_'.join([a,b]) for b in col2 for a in col1 ]"
   ]
  },
  {
   "cell_type": "markdown",
   "metadata": {},
   "source": [
    "Reorder according to the above, and flatten the row index"
   ]
  },
  {
   "cell_type": "code",
   "execution_count": 42,
   "metadata": {},
   "outputs": [],
   "source": [
    "widedat = widedat.reindex(columns = colorder).reset_index()"
   ]
  },
  {
   "cell_type": "markdown",
   "metadata": {},
   "source": [
    "Replace placeholder values with the proper NaN missing value for Pandas. Also prepare the original dataset for merging"
   ]
  },
  {
   "cell_type": "code",
   "execution_count": 74,
   "metadata": {},
   "outputs": [],
   "source": [
    "dat.loc[((dat.director_num == '---') | dat.director_num.isna() | dat.director_num == None) & (dat.legal_form != 'Individual Entrepeneur') , 'director_num' ] = np.NaN\n",
    "firmdat = dat[['firmid', 'firm_name', 'legal_form' , 'registration_date', 'address' , 'email', 'date', 'director_name', 'director_num']].drop_duplicates()"
   ]
  },
  {
   "cell_type": "markdown",
   "metadata": {},
   "source": [
    "Merge the two together. We now have a dataset that, for each firm/date pair, has one observation with:\n",
    "\n",
    "- Firm information, like name, ID, registration date, CEO, etc.\n",
    "- For the top 5 shareholders\n",
    "    - Name\n",
    "    - ID number\n",
    "    - Share\n",
    "- Director can be (and almost always is) one of the listed shareholders"
   ]
  },
  {
   "cell_type": "code",
   "execution_count": 75,
   "metadata": {},
   "outputs": [],
   "source": [
    "mergedfirmdat = firmdat.merge(widedat, on=['firmid','date'], how='right')"
   ]
  },
  {
   "cell_type": "markdown",
   "metadata": {},
   "source": [
    "Save the thing (as Stata format"
   ]
  },
  {
   "cell_type": "code",
   "execution_count": null,
   "metadata": {},
   "outputs": [],
   "source": [
    "fdir = '~/Documents/Freiburg/ZEW/georgia/01_data/'\n",
    "fname = 'georgiamergedfirms.dta'\n",
    "mergedfirmdat.where(mergedfirmdat.isna(), mergedfirmdat.astype(str)).to_stata(fdir + fname, version = 119, write_index=False)"
   ]
  },
  {
   "cell_type": "markdown",
   "metadata": {},
   "source": [
    "And compress it. This little script loads the .dta, converts all strings to strL, and uses Stata's compress to optimize. In this case, we go from ~400MB to ~40MB, although this is an extreme result"
   ]
  },
  {
   "cell_type": "code",
   "execution_count": 113,
   "metadata": {
    "scrolled": true
   },
   "outputs": [],
   "source": [
    "a = subprocess.call(['stata-mp' ,'do', 'stata-compress.do', f'{fdir}' , f'{fname}'])"
   ]
  },
  {
   "cell_type": "markdown",
   "metadata": {},
   "source": [
    "Now read in the list of bids, both winning and losing"
   ]
  },
  {
   "cell_type": "code",
   "execution_count": 114,
   "metadata": {},
   "outputs": [],
   "source": [
    "procurement_dat = pd.read_stata('../01_data/Georgia_backlog_merged.dta')"
   ]
  },
  {
   "cell_type": "markdown",
   "metadata": {},
   "source": [
    "Going back to our previous dataset, sort by date and group by firm"
   ]
  },
  {
   "cell_type": "code",
   "execution_count": 116,
   "metadata": {},
   "outputs": [],
   "source": [
    "grouped_firm_dat = mergedfirmdat.sort_values('date', ascending = False).groupby('firmid')"
   ]
  },
  {
   "cell_type": "markdown",
   "metadata": {},
   "source": [
    "This is where the magic happens. For each bid observation:\n",
    "\n",
    "- We find the group of observations corresponding to that firm\n",
    "- We drop all that are newer\n",
    "- Because we sorted, the first remaining observation is the most recent. We get its ID and set it as the 'foreignkey'"
   ]
  },
  {
   "cell_type": "code",
   "execution_count": 149,
   "metadata": {},
   "outputs": [
    {
     "data": {
      "application/vnd.jupyter.widget-view+json": {
       "model_id": "09f196c9eda34731ace803170df475c6",
       "version_major": 2,
       "version_minor": 0
      },
      "text/plain": [
       "HBox(children=(FloatProgress(value=0.0, max=384492.0), HTML(value='')))"
      ]
     },
     "metadata": {},
     "output_type": "display_data"
    },
    {
     "name": "stdout",
     "output_type": "stream",
     "text": [
      "\n"
     ]
    }
   ],
   "source": [
    "missing_firms = 0\n",
    "\n",
    "procurement_dat['foreignkey'] = -1\n",
    "for i in tqdm(procurement_dat.index):\n",
    "    proc = procurement_dat.loc[i]\n",
    "    \n",
    "    try:\n",
    "        firmgroup = grouped_firm_dat.get_group(proc['firmid'])\n",
    "        firmobs = firmgroup[firmgroup.date <= proc.announcement_date].head(1)\n",
    "    except KeyError:\n",
    "        missing_firms += 1\n",
    "        procurement_dat.loc[i, 'foreignkey'] = -1\n",
    "    \n",
    "    try:\n",
    "        procurement_dat.loc[i, 'foreignkey'] = firmobs.index.item()\n",
    "    except ValueError:\n",
    "        missing_firms += 1\n",
    "        procurement_dat.loc[i, 'foreignkey'] = -1\n"
   ]
  },
  {
   "cell_type": "markdown",
   "metadata": {},
   "source": [
    "We then merge using the previously calculated 'foreignkey'"
   ]
  },
  {
   "cell_type": "code",
   "execution_count": 151,
   "metadata": {},
   "outputs": [],
   "source": [
    "georgiawithfirmsdat = pd.merge(procurement_dat, mergedfirmdat, left_on = 'foreignkey', right_index = True, how='left')"
   ]
  },
  {
   "cell_type": "markdown",
   "metadata": {},
   "source": [
    "And save this (now massive) dataset."
   ]
  },
  {
   "cell_type": "code",
   "execution_count": 153,
   "metadata": {},
   "outputs": [],
   "source": [
    "fdir = '~/Documents/Freiburg/ZEW/georgia/01_data/'\n",
    "fname = 'georgia_withfirms.dta'\n",
    "georgiawithfirmsdat.where(georgiawithfirmsdat.isna(), georgiawithfirmsdat.astype(str)).to_stata(fdir + fname, version = 119, write_index=False)\n",
    "a = subprocess.call(['stata-mp' ,'do', 'stata-compress.do', f'{fdir}' , f'{fname}'])"
   ]
  },
  {
   "cell_type": "code",
   "execution_count": null,
   "metadata": {},
   "outputs": [],
   "source": []
  }
 ],
 "metadata": {
  "kernelspec": {
   "display_name": "Python 3",
   "language": "python",
   "name": "python3"
  },
  "language_info": {
   "codemirror_mode": {
    "name": "ipython",
    "version": 3
   },
   "file_extension": ".py",
   "mimetype": "text/x-python",
   "name": "python",
   "nbconvert_exporter": "python",
   "pygments_lexer": "ipython3",
   "version": "3.8.3"
  }
 },
 "nbformat": 4,
 "nbformat_minor": 4
}
